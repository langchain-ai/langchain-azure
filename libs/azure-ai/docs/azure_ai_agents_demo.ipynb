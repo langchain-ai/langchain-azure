{
 "cells": [
  {
   "cell_type": "markdown",
   "id": "ece22b77",
   "metadata": {},
   "source": [
    "# Azure AI Agents with LangChain Integration\n",
    "\n",
    "This notebook demonstrates how to use Azure AI Agents with LangChain through the `langchain-azure-ai` integration, powered by the Azure AI Projects SDK.\n",
    "\n",
    "## Prerequisites\n",
    "\n",
    "1. An Azure AI Foundry project\n",
    "2. A deployed model (e.g., gpt-4o-mini)\n",
    "3. Appropriate authentication credentials\n",
    "4. Environment variables set:\n",
    "   - `PROJECT_CONNECTION_STRING`\n",
    "\n",
    "## New Implementation\n",
    "\n",
    "This updated implementation uses the **Azure AI Projects SDK** (`azure.ai.projects.AIProjectClient`) instead of the lower-level Azure AI Agents SDK. This provides:\n",
    "\n",
    "- Better integration with Azure AI Foundry projects\n",
    "- Simplified authentication using connection strings\n",
    "- More robust tool handling and serialization\n",
    "- Better support for file uploads and management"
   ]
  },
  {
   "cell_type": "markdown",
   "id": "96668229",
   "metadata": {},
   "source": [
    "## Install Required Packages\n",
    "\n",
    "For local development, you have a few options:\n",
    "\n",
    "### Option 1: Install in editable mode (Recommended for development)\n",
    "Run this in your terminal from the `libs/azure-ai` directory:\n",
    "```bash\n",
    "pip install -e .\n",
    "```\n",
    "\n",
    "### Option 2: Install individual dependencies\n",
    "If you want to install just the dependencies without the full package:\n",
    "```bash\n",
    "pip install azure-ai-agents azure-identity langchain-core\n",
    "```\n",
    "\n",
    "### Option 3: Use Python path (for this notebook only)\n",
    "The next cell will set up the Python path to use the local code directly."
   ]
  },
  {
   "cell_type": "markdown",
   "id": "ee4869e2",
   "metadata": {},
   "source": [
    "## Local Development Setup\n",
    "\n",
    "If you're running this notebook from the langchain-azure repository, you need to set up the environment to use the local build that includes the new Azure AI Agents integration.\n",
    "\n",
    "## Install Required Packages\n",
    "\n",
    "For local development, you have a few options:\n",
    "\n",
    "### Install in editable mode (Recommended for development)\n",
    "Run this in your terminal from the `libs/azure-ai` directory:\n",
    "```bash\n",
    "pip install .\n",
    "```"
   ]
  },
  {
   "cell_type": "markdown",
   "id": "a3dad7ba",
   "metadata": {},
   "source": [
    "## Import Required Modules"
   ]
  },
  {
   "cell_type": "markdown",
   "id": "3c19091a",
   "metadata": {},
   "source": [
    "## Set Up Environment Variables\n",
    "\n",
    "To use Azure AI Agents, you need to get your project connection string from Azure AI Foundry:\n",
    "\n",
    "1. Go to [Azure AI Foundry](https://ai.azure.com)\n",
    "2. Open your project\n",
    "3. Go to **Project settings** → **General**\n",
    "4. Copy the **Connection string**\n",
    "\n",
    "The connection string should look like:\n",
    "```\n",
    "https://your-project.region.ai.azure.com/api/projects/your-project-name\n",
    "```\n",
    "\n",
    "Make sure these are set in your environment:"
   ]
  },
  {
   "cell_type": "code",
   "execution_count": null,
   "id": "2672b97c",
   "metadata": {},
   "outputs": [],
   "source": [
    "import sys\n",
    "import os\n",
    "from pathlib import Path\n",
    "\n",
    "# Get the path to the langchain_azure_ai package in the current repo\n",
    "current_dir = Path.cwd()\n",
    "# Navigate to the libs/azure-ai directory regardless of where we are\n",
    "azure_ai_path = None\n",
    "\n",
    "# Try multiple possible locations\n",
    "possible_paths = [\n",
    "    current_dir / \"langchain_azure_ai\",  # If we're in the azure-ai directory\n",
    "    current_dir.parent / \"langchain_azure_ai\",  # If we're in docs subdirectory\n",
    "    current_dir / \"libs\" / \"azure-ai\" / \"langchain_azure_ai\",  # If we're in repo root\n",
    "    current_dir.parent.parent / \"langchain_azure_ai\",  # If we're nested deeper\n",
    "]\n",
    "\n",
    "for path in possible_paths:\n",
    "    if path.exists() and (path / \"__init__.py\").exists():\n",
    "        azure_ai_path = path.parent\n",
    "        break\n",
    "\n",
    "if azure_ai_path:\n",
    "    # Add to Python path if not already there\n",
    "    azure_ai_str = str(azure_ai_path)\n",
    "    if azure_ai_str not in sys.path:\n",
    "        sys.path.insert(0, azure_ai_str)\n",
    "    print(f\"✓ Added local package path: {azure_ai_path}\")\n",
    "    \n",
    "    # Verify the package is accessible\n",
    "    try:\n",
    "        import langchain_azure_ai\n",
    "        print(f\"✓ Successfully imported langchain_azure_ai from: {langchain_azure_ai.__file__}\")\n",
    "        \n",
    "        # Check if Azure AI Agents is available\n",
    "        try:\n",
    "            from langchain_azure_ai.azure_ai_agents import AzureAIAgentsService\n",
    "            print(\"✓ Azure AI Agents integration is available in the local build!\")\n",
    "        except ImportError as e:\n",
    "            print(f\"✗ Azure AI Agents not found: {e}\")\n",
    "            \n",
    "    except ImportError as e:\n",
    "        print(f\"✗ Could not import langchain_azure_ai: {e}\")\n",
    "else:\n",
    "    print(\"✗ Could not find langchain_azure_ai package in expected locations\")\n",
    "    print(\"   Make sure you're running this notebook from within the langchain-azure repository\")\n",
    "    print(\"   Current directory:\", current_dir)\n"
   ]
  },
  {
   "cell_type": "code",
   "execution_count": 15,
   "id": "579097b2",
   "metadata": {},
   "outputs": [],
   "source": [
    "# Try to import Azure and LangChain modules\n",
    "from azure.identity import DefaultAzureCredential\n",
    "from langchain_azure_ai.azure_ai_agents import AzureAIAgentsService\n",
    "import langchain_azure_ai\n",
    "\n",
    "# Import other required modules\n",
    "from langchain_core.messages import HumanMessage\n",
    "from langchain_core.callbacks import CallbackManager\n",
    "from langchain_core.prompts import PromptTemplate\n",
    "from langchain_core.output_parsers import StrOutputParser"
   ]
  },
  {
   "cell_type": "code",
   "execution_count": null,
   "id": "1fb600d0",
   "metadata": {},
   "outputs": [],
   "source": [
    "import os\n",
    "\n",
    "# Set up environment variables for Azure AI Projects\n",
    "# Replace with your actual connection string\n",
    "os.environ[\"PROJECT_CONNECTION_STRING\"] = \"\"\n",
    "os.environ[\"PROJECT_ENDPOINT\"] = \"\"\n",
    "os.environ[\"MODEL_DEPLOYMENT_NAME\"] = \"\"\n"
   ]
  },
  {
   "cell_type": "markdown",
   "id": "56ecf24f",
   "metadata": {},
   "source": [
    "## Basic Usage\n",
    "\n",
    "Let's start with a basic example of creating an Azure AI Agent and using it with LangChain:\n",
    "\n",
    "**Note**: The Azure AI Projects SDK uses `project_connection_string` for authentication instead of separate endpoint and model parameters."
   ]
  },
  {
   "cell_type": "code",
   "execution_count": 17,
   "id": "fcb433c1",
   "metadata": {},
   "outputs": [
    {
     "name": "stdout",
     "output_type": "stream",
     "text": [
      "Agent service created successfully!\n"
     ]
    }
   ],
   "source": [
    "# Create an Azure AI Agents service using Azure AI Projects SDK\n",
    "agent_service = AzureAIAgentsService(\n",
    "    credential=DefaultAzureCredential(),\n",
    "    endpoint=os.environ[\"PROJECT_ENDPOINT\"],  # Use the project endpoint\n",
    "    model_name=\"gpt-4.1\",  # Use a model that's available in your project\n",
    "    agent_name=\"langchain-demo-agent\",\n",
    "    instructions=\"You are a helpful AI assistant that provides clear and concise answers.\",\n",
    ")\n",
    "\n",
    "print(\"Agent service created successfully!\")"
   ]
  },
  {
   "cell_type": "code",
   "execution_count": 19,
   "id": "ab7e8b4e",
   "metadata": {},
   "outputs": [
    {
     "name": "stdout",
     "output_type": "stream",
     "text": [
      "Response: The capital of France is Paris.\n"
     ]
    }
   ],
   "source": [
    "# Test basic generation\n",
    "response = agent_service.invoke(\"What is the capital of France?\")\n",
    "print(f\"Response: {response}\")"
   ]
  },
  {
   "cell_type": "markdown",
   "id": "051b1738",
   "metadata": {},
   "source": [
    "## Multiple Prompts\n",
    "\n",
    "You can process multiple prompts at once:"
   ]
  },
  {
   "cell_type": "code",
   "execution_count": 20,
   "id": "a000da2b",
   "metadata": {},
   "outputs": [
    {
     "name": "stdout",
     "output_type": "stream",
     "text": [
      "Prompt 1: What is 2 + 2?\n",
      "Response: 2 + 2 = 4\n",
      "\n",
      "Prompt 2: Name one programming language.\n",
      "Response: Python is a programming language.\n",
      "\n",
      "Prompt 3: What color is the sky?\n",
      "Response: The sky appears blue during the day because of the way Earth's atmosphere scatters sunlight. At sunrise and sunset, it often looks red, orange, or pink due to the angle of the sun and longer passage through the atmosphere. At night, the sky is usually dark or black, except for the stars and moon.\n",
      "\n"
     ]
    }
   ],
   "source": [
    "# Generate responses for multiple prompts\n",
    "prompts = [\n",
    "    \"What is 2 + 2?\",\n",
    "    \"Name one programming language.\",\n",
    "    \"What color is the sky?\"\n",
    "]\n",
    "\n",
    "results = agent_service.generate(prompts)\n",
    "\n",
    "for i, generation_list in enumerate(results.generations):\n",
    "    print(f\"Prompt {i+1}: {prompts[i]}\")\n",
    "    print(f\"Response: {generation_list[0].text}\\n\")"
   ]
  },
  {
   "cell_type": "markdown",
   "id": "45228acc",
   "metadata": {},
   "source": [
    "## Integration with LangChain Chains\n",
    "\n",
    "The Azure AI Agents service works seamlessly with LangChain chains:"
   ]
  },
  {
   "cell_type": "code",
   "execution_count": 10,
   "id": "21d2b8a4",
   "metadata": {},
   "outputs": [
    {
     "name": "stdout",
     "output_type": "stream",
     "text": [
      "Machine Learning Explanation:\n",
      "- Machine learning is a field of artificial intelligence where computers learn from data to make predictions or decisions without explicit programming.  \n",
      "- It involves feeding large amounts of data into algorithms, which identify patterns and improve their performance over time.  \n",
      "- Common applications include image recognition, language translation, and recommendation systems.\n"
     ]
    }
   ],
   "source": [
    "# Create a prompt template\n",
    "prompt = PromptTemplate(\n",
    "    input_variables=[\"topic\"],\n",
    "    template=\"Explain {topic} in exactly 3 bullet points.\"\n",
    ")\n",
    "\n",
    "# Create a chain\n",
    "chain = prompt | agent_service | StrOutputParser()\n",
    "\n",
    "# Use the chain\n",
    "result = chain.invoke({\"topic\": \"machine learning\"})\n",
    "print(f\"Machine Learning Explanation:\\n{result}\")"
   ]
  },
  {
   "cell_type": "code",
   "execution_count": 11,
   "id": "3611cc0b",
   "metadata": {},
   "outputs": [
    {
     "name": "stdout",
     "output_type": "stream",
     "text": [
      "\n",
      "Artificial Intelligence:\n",
      "- Artificial intelligence (AI) is the development of computer systems capable of performing tasks that typically require human intelligence, such as learning, reasoning, and problem-solving.\n",
      "- AI uses algorithms and large datasets to recognize patterns, make decisions, and improve its performance over time without explicit human programming for each task.\n",
      "- Common AI applications include virtual assistants, image and speech recognition, autonomous vehicles, and recommendation systems.\n",
      "--------------------------------------------------\n",
      "\n",
      "Cloud Computing:\n",
      "- Cloud computing delivers computing services (such as storage, servers, databases, and software) over the internet, allowing on-demand access to resources.\n",
      "- It eliminates the need for physical hardware and enables scalability, flexibility, and cost-effectiveness by charging only for what you use.\n",
      "- Services are typically categorized as Infrastructure as a Service (IaaS), Platform as a Service (PaaS), and Software as a Service (SaaS).\n",
      "--------------------------------------------------\n",
      "\n",
      "Data Science:\n",
      "- Data science is the process of extracting insights and knowledge from structured and unstructured data using scientific methods, algorithms, and tools.  \n",
      "- It combines expertise from statistics, computer science, and domain knowledge to analyze and interpret complex data.  \n",
      "- Applications include predictive modeling, data visualization, decision-making, and automation across various industries.\n",
      "--------------------------------------------------\n"
     ]
    }
   ],
   "source": [
    "# Try with different topics\n",
    "topics = [\"artificial intelligence\", \"cloud computing\", \"data science\"]\n",
    "\n",
    "for topic in topics:\n",
    "    result = chain.invoke({\"topic\": topic})\n",
    "    print(f\"\\n{topic.title()}:\")\n",
    "    print(result)\n",
    "    print(\"-\" * 50)"
   ]
  },
  {
   "cell_type": "markdown",
   "id": "88e180a4",
   "metadata": {},
   "source": [
    "## Advanced Configuration\n",
    "\n",
    "You can customize the agent with various parameters. The Azure AI Agents service supports the following configuration options:\n",
    "\n",
    "**Supported Parameters:**\n",
    "- `temperature`: Controls randomness in the output (0.0 to 1.0)\n",
    "- `top_p`: Controls diversity via nucleus sampling (0.0 to 1.0)  \n",
    "- `response_format`: Specifies the format that the model must output\n",
    "- `tools`: List of tools to provide to the agent\n",
    "- `tool_resources`: Tool resources for the agent\n",
    "- `metadata`: Custom metadata for the agent\n",
    "\n",
    "**Note:** Some parameters like `max_completion_tokens`, `max_prompt_tokens`, etc. are not supported by the current Azure AI Agents SDK."
   ]
  },
  {
   "cell_type": "code",
   "execution_count": 21,
   "id": "c24535f8",
   "metadata": {},
   "outputs": [
    {
     "name": "stdout",
     "output_type": "stream",
     "text": [
      "Creative Response:\n",
      "The horizon drinks the sun with slow abandon,  \n",
      "Brushstrokes of gold unfurl across the waves,  \n",
      "A trembling path of fire, softly laden  \n",
      "With whispers of the secrets daylight gave.  \n",
      "\n",
      "Clouds blush in apricot and rose-tint splendor,  \n",
      "Their fringes melting into violet sighs;  \n",
      "Salt air grows cool, the world grows tender,  \n",
      "As sapphire shadows gather in the skies.  \n",
      "\n",
      "Seagulls wheel through the final honeyed glimmer,  \n",
      "Their silhouettes like brushwork on the air—  \n",
      "The distant sun a fading, molten shimmer  \n",
      "That slips beneath the water’s gentle stare.  \n",
      "\n",
      "Night hushes in, the day sings its surrender,  \n",
      "Leaving the ocean gleaming with remembered amber.\n"
     ]
    }
   ],
   "source": [
    "# Create an agent with custom configuration\n",
    "custom_agent = AzureAIAgentsService(\n",
    "    endpoint=os.environ[\"PROJECT_ENDPOINT\"],\n",
    "    credential=DefaultAzureCredential(),\n",
    "    model_name=os.environ[\"MODEL_DEPLOYMENT_NAME\"],  # Use model_name instead of model\n",
    "    agent_name=\"custom-configured-agent\",\n",
    "    instructions=\"You are a creative writing assistant. Write in a poetic style.\",\n",
    "    temperature=0.8,  # Higher temperature for more creativity\n",
    "    agent_description=\"A creative writing assistant with poetic flair\"\n",
    ")\n",
    "\n",
    "# Test the custom agent\n",
    "creative_response = custom_agent.invoke(\"Describe a sunset over the ocean.\")\n",
    "print(f\"Creative Response:\\n{creative_response}\")"
   ]
  },
  {
   "cell_type": "markdown",
   "id": "a71555ae",
   "metadata": {},
   "source": [
    "## Direct Client Access\n",
    "\n",
    "For advanced use cases, you can access the underlying Azure AI Agents client:"
   ]
  },
  {
   "cell_type": "markdown",
   "id": "62d2f997",
   "metadata": {},
   "source": [
    "## Tool Usage with Azure AI Agents\n",
    "\n",
    "Azure AI Agents support various tools including code interpreter, file search, and function calling. Here are examples of how to use these tools with the LangChain integration using the Azure AI Projects SDK.\n",
    "\n",
    "### Code Interpreter Tool\n",
    "\n",
    "The code interpreter tool allows agents to write and execute Python code, analyze data, create visualizations, and work with files."
   ]
  },
  {
   "cell_type": "code",
   "execution_count": null,
   "id": "1228f6a7",
   "metadata": {},
   "outputs": [],
   "source": [
    "!pip install pandas "
   ]
  },
  {
   "cell_type": "code",
   "execution_count": 12,
   "id": "27274596",
   "metadata": {},
   "outputs": [
    {
     "name": "stdout",
     "output_type": "stream",
     "text": [
      "Created sample data file → /workspaces/langchain-azure/libs/azure-ai/docs/sample_sales_data.csv\n",
      "\n",
      "Sample data:\n",
      "  month  sales region\n",
      "0   Jan  12000  North\n",
      "1   Feb  15000  South\n",
      "2   Mar  18000   East\n",
      "3   Apr  14000   West\n",
      "4   May  22000  North\n",
      "5   Jun  25000  South\n"
     ]
    }
   ],
   "source": [
    "# First, let's create some sample data for the code interpreter to work with\n",
    "import pandas as pd\n",
    "from pathlib import Path \n",
    "import tempfile\n",
    "import os\n",
    "\n",
    "# Create sample sales data\n",
    "data = {\n",
    "    'month': ['Jan', 'Feb', 'Mar', 'Apr', 'May', 'Jun'],\n",
    "    'sales': [12000, 15000, 18000, 14000, 22000, 25000],\n",
    "    'region': ['North', 'South', 'East', 'West', 'North', 'South']\n",
    "}\n",
    "\n",
    "df = pd.DataFrame(data)\n",
    "\n",
    "# Create a CSV file in the current working directory\n",
    "csv_path = Path.cwd() / \"sample_sales_data.csv\"\n",
    "df.to_csv(csv_path, index=False, encoding='utf-8-sig')  # The code interpreter requires utf-8-sig \n",
    "\n",
    "print(f\"Created sample data file → {csv_path}\")\n",
    "print(\"\\nSample data:\")\n",
    "print(df)"
   ]
  },
  {
   "cell_type": "code",
   "execution_count": null,
   "id": "fa7cf55b",
   "metadata": {},
   "outputs": [],
   "source": [
    "# Import required modules for tools using Azure AI Projects SDK\n",
    "from azure.ai.agents.models import CodeInterpreterTool, FilePurpose, FileSearchTool, MessageRole\n",
    "# from azure.ai.projects import AIProjectClient\n",
    "\n",
    "try:\n",
    "    agents_client = AzureAIAgentsService(\n",
    "    credential=DefaultAzureCredential(),\n",
    "    endpoint=os.environ[\"PROJECT_ENDPOINT\"],  # Use the project endpoint\n",
    "    # model_name=\"gpt-4.1\",  # Use a model that's available in your project\n",
    "    )._create_client()\n",
    "\n",
    "    # # Upload the file for the code interpreter\n",
    "    print(\"Uploading file for code interpreter...\")\n",
    "    uploaded_file = agents_client.files.upload_and_poll(\n",
    "        file_path=str(csv_path),\n",
    "        purpose=FilePurpose.AGENTS  # Specify the purpose for the file\n",
    "    )\n",
    "\n",
    "    print(f\"✓ Uploaded file, file ID: {uploaded_file.id}\")\n",
    "\n",
    "    # Create code interpreter tool with the uploaded file\n",
    "    code_interpreter = CodeInterpreterTool(file_ids=[uploaded_file.id])\n",
    "\n",
    "    print(code_interpreter.definitions)\n",
    "    \n",
    "    print(code_interpreter.resources)\n",
    "\n",
    "    agent = agents_client.create_agent(\n",
    "                model=\"gpt-4.1\",\n",
    "                name=\"code-interpreter-agent\",\n",
    "                instructions=\"\"\"You are a data analyst agent. \n",
    "                Analyze the provided data and create visualizations \n",
    "                when helpful. Use Python code to explore and understand the data.\"\"\",\n",
    "                tools=code_interpreter.definitions,\n",
    "                tool_resources=code_interpreter.resources\n",
    "            )\n",
    "    print(f\"Created agent, agent ID: {agent.id}\")\n",
    "\n",
    "    thread = agents_client.threads.create()\n",
    "    print(f\"Created thread, thread ID: {thread.id}\")\n",
    "\n",
    "    print(f\"✓ Created AzureAIAgentsService with code interpreter tool\")\n",
    "\n",
    "    # Create a message\n",
    "    message = agents_client.messages.create(\n",
    "        thread_id=thread.id,\n",
    "        role=\"user\",\n",
    "        content=\"create a pie chart with the data showing sales by region and show it to me as a png image.\",\n",
    "    )\n",
    "    print(f\"Created message, message ID: {message.id}\")\n",
    "\n",
    "    run = agents_client.runs.create_and_process(thread_id=thread.id, agent_id=agent.id)\n",
    "    print(f\"Run finished with status: {run.status}\")\n",
    "\n",
    "    if run.status == \"failed\":\n",
    "        # Check if you got \"Rate limit is exceeded.\", then you want to get more quota\n",
    "        print(f\"Run failed: {run.last_error}\")\n",
    "\n",
    "    # [START get_messages_and_save_files]\n",
    "    messages = agents_client.messages.list(thread_id=thread.id)\n",
    "    print(f\"Messages: {messages}\")\n",
    "\n",
    "    for msg in messages:\n",
    "        breakpoint()\n",
    "        # Save every image file in the message\n",
    "        for img in msg.image_contents:\n",
    "            file_id = img.image_file.file_id\n",
    "            file_name = f\"{file_id}_image_file.png\"\n",
    "            agents_client.files.save(file_id=file_id, file_name=file_name, target_dir=\"/workspaces/langchain-azure/libs/azure-ai/docs/\")\n",
    "            print(f\"Saved image file to: {Path.cwd() / file_name}\")\n",
    "\n",
    "        # Print details of every file-path annotation\n",
    "        for ann in msg.file_path_annotations:\n",
    "            print(\"File Paths:\")\n",
    "            print(f\"  Type: {ann.type}\")\n",
    "            print(f\"  Text: {ann.text}\")\n",
    "            print(f\"  File ID: {ann.file_path.file_id}\")\n",
    "            print(f\"  Start Index: {ann.start_index}\")\n",
    "            print(f\"  End Index: {ann.end_index}\")\n",
    "    # [END get_messages_and_save_files]\n",
    "\n",
    "    last_msg = agents_client.messages.get_last_message_text_by_role(thread_id=thread.id, role=MessageRole.AGENT)\n",
    "    if last_msg:\n",
    "        print(f\"Last Message: {last_msg.text.value}\")\n",
    "\n",
    "except Exception as e:\n",
    "    print(f\"An error occurred: {e}\")\n",
    "    print(\"Please check your Azure AI Projects configuration and try again.\")\n",
    "    import traceback\n",
    "    traceback.print_exc()\n"
   ]
  },
  {
   "cell_type": "code",
   "execution_count": null,
   "id": "6ac51d94",
   "metadata": {},
   "outputs": [],
   "source": [
    "# Create a persistent thread for multi-turn conversation\n",
    "thread = agents_client.threads.create()\n",
    "print(f\"Created thread: {thread.id}\")\n",
    "\n",
    "# Have a multi-turn conversation\n",
    "conversation = [\n",
    "    \"Hello! I'm learning about Python.\",\n",
    "    \"What are the key features of Python?\",\n",
    "    \"Can you give me an example of a Python function?\"\n",
    "]\n",
    "\n",
    "for user_message in conversation:\n",
    "    # Create message\n",
    "    message = agents_client.messages.create(\n",
    "        thread_id=thread.id,\n",
    "        role=\"user\",\n",
    "        content=user_message\n",
    "    )\n",
    "    \n",
    "    # Run the agent\n",
    "    run = agents_client.runs.create_and_process(\n",
    "        thread_id=thread.id,\n",
    "        agent_id=agent.id\n",
    "    )\n",
    "    \n",
    "    # Get the latest response\n",
    "    messages = agents_client.messages.list(thread_id=thread.id)\n",
    "    \n",
    "    # Find the latest assistant message\n",
    "    # ItemPaged is iterable directly, no need for .data\n",
    "    for msg in messages:\n",
    "        if msg.role == \"assistant\" and msg.text_messages:\n",
    "            assistant_response = msg.text_messages[0].text.value\n",
    "            break\n",
    "    \n",
    "    print(f\"\\nUser: {user_message}\")\n",
    "    print(f\"Assistant: {assistant_response}\")\n",
    "    print(\"-\" * 80)\n",
    "\n",
    "# Clean up the thread\n",
    "agents_client.threads.delete(thread.id)\n",
    "print(\"\\nThread deleted.\")"
   ]
  },
  {
   "cell_type": "markdown",
   "id": "a647721e",
   "metadata": {},
   "source": [
    "## Async Operations\n",
    "\n",
    "The service also supports async operations:"
   ]
  },
  {
   "cell_type": "code",
   "execution_count": 14,
   "id": "a0101d0b",
   "metadata": {},
   "outputs": [
    {
     "name": "stdout",
     "output_type": "stream",
     "text": [
      "Async Response: Asynchronous programming offers several benefits, especially in applications that require handling multiple tasks or I/O operations efficiently. Here are the main advantages:\n",
      "\n",
      "1. **Improved Responsiveness**  \n",
      "   Asynchronous code allows a program to perform other tasks while waiting for operations (like file I/O or network requests) to complete. This keeps user interfaces (UIs) and services responsive and prevents blocking.\n",
      "\n",
      "2. **Efficient Resource Utilization**  \n",
      "   Asynchronous operations free up system resources by not blocking threads during wait times. This allows a single thread to manage multiple I/O-bound operations, reducing the need for many threads and saving memory and CPU.\n",
      "\n",
      "3. **Scalability**  \n",
      "   Asynchronous programming enables applications (especially servers) to handle many concurrent connections or operations efficiently. For example, asynchronous web servers can serve thousands of clients without requiring a separate thread per client.\n",
      "\n",
      "4. **Better Throughput**  \n",
      "   By not blocking on slow operations, asynchronous apps can achieve higher throughput, as they can start new tasks instead of waiting for others to finish.\n",
      "\n",
      "5. **Reduced Latency**  \n",
      "   Time-consuming operations do not block the entire application. Instead, the app can continue processing other tasks, reducing perceived delays for users.\n",
      "\n",
      "6. **Simpler Error Handling (in modern frameworks)**  \n",
      "   Async/await constructs (in languages like JavaScript, Python, and C#) make asynchronous code easier to write and understand, also enabling straightforward error propagation and handling.\n",
      "\n",
      "**Typical Use Cases:**\n",
      "- Web servers and network applications\n",
      "- File and database operations\n",
      "- Real-time applications (chats, games, etc.)\n",
      "- User interfaces that should remain responsive\n",
      "\n",
      "**Summary:**  \n",
      "Asynchronous programming enables efficient, scalable, and responsive applications by allowing code to initiate and manage multiple operations without waiting for each to finish before starting the next.\n",
      "\n",
      "Async Multiple Responses:\n",
      "Hello: Hello! How can I assist you today?\n",
      "How are you?: I'm just a program, but I'm here and ready to help you! How can I assist you today?\n",
      "Goodbye: Goodbye! If you need anything in the future, just let me know. Have a great day!\n"
     ]
    }
   ],
   "source": [
    "import asyncio\n",
    "from azure.identity import DefaultAzureCredential\n",
    "\n",
    "async def async_example():\n",
    "    # Create async agent\n",
    "    async_agent = AzureAIAgentsService(\n",
    "        endpoint=os.environ[\"PROJECT_ENDPOINT\"],\n",
    "        credential=DefaultAzureCredential(),\n",
    "        model_name=os.environ[\"MODEL_DEPLOYMENT_NAME\"],  # Use model_name instead of model\n",
    "        agent_name=\"async-demo-agent\",\n",
    "        instructions=\"You are an async AI assistant.\"\n",
    "    )\n",
    "    \n",
    "    try:\n",
    "        # Async generation\n",
    "        response = await async_agent.ainvoke(\"What are the benefits of asynchronous programming?\")\n",
    "        print(f\"Async Response: {response}\")\n",
    "        \n",
    "        # Async multiple prompts\n",
    "        prompts = [\"Hello\", \"How are you?\", \"Goodbye\"]\n",
    "        results = await async_agent.agenerate(prompts)\n",
    "        \n",
    "        print(\"\\nAsync Multiple Responses:\")\n",
    "        for i, generation_list in enumerate(results.generations):\n",
    "            print(f\"{prompts[i]}: {generation_list[0].text}\")\n",
    "    \n",
    "    finally:\n",
    "        # Clean up\n",
    "        await async_agent.adelete_agent()\n",
    "        await async_agent.aclose()          # closes aiohttp session\n",
    "        \n",
    "# Run the async example\n",
    "await async_example()"
   ]
  },
  {
   "cell_type": "markdown",
   "id": "25486fca",
   "metadata": {},
   "source": [
    "## Cleanup\n",
    "\n",
    "Always remember to clean up your agents when you're done:"
   ]
  },
  {
   "cell_type": "code",
   "execution_count": 35,
   "id": "f06b7700",
   "metadata": {},
   "outputs": [
    {
     "name": "stdout",
     "output_type": "stream",
     "text": [
      "Deleted main agent\n",
      "Deleted custom agent\n",
      "\n",
      "Cleanup completed!\n",
      "Deleted custom agent\n",
      "\n",
      "Cleanup completed!\n"
     ]
    }
   ],
   "source": [
    "# Clean up all the agents we created\n",
    "try:\n",
    "    agent_service.delete_agent()\n",
    "    print(\"Deleted main agent\")\n",
    "except:\n",
    "    print(\"Main agent already deleted or not found\")\n",
    "\n",
    "try:\n",
    "    custom_agent.delete_agent()\n",
    "    print(\"Deleted custom agent\")\n",
    "except:\n",
    "    print(\"Custom agent already deleted or not found\")\n",
    "\n",
    "print(\"\\nCleanup completed!\")"
   ]
  },
  {
   "cell_type": "markdown",
   "id": "966e5d5d",
   "metadata": {},
   "source": [
    "## Summary\n",
    "\n",
    "This notebook demonstrated the updated Azure AI Agents integration with LangChain using the **Azure AI Projects SDK**:\n",
    "\n",
    "### Key Improvements\n",
    "\n",
    "1. **Azure AI Projects SDK**: Now uses `azure.ai.projects.AIProjectClient` instead of the lower-level `azure-ai-agents` SDK\n",
    "2. **Simplified Authentication**: Uses project connection strings for easier setup\n",
    "3. **Better Tool Support**: Improved handling of tools like code interpreter with proper serialization\n",
    "4. **Robust File Management**: Better file upload and management capabilities\n",
    "5. **LangChain Integration**: Seamless integration with LangChain chains and workflows\n",
    "\n",
    "### What was demonstrated:\n",
    "\n",
    "1. **Basic Usage**: Creating and using Azure AI Agents with LangChain\n",
    "2. **Multiple Prompts**: Processing multiple prompts efficiently  \n",
    "3. **Chain Integration**: Using agents in LangChain chains and workflows\n",
    "4. **Advanced Configuration**: Customizing agent behavior with parameters\n",
    "5. **Tool Usage**: Working with code interpreter for data analysis\n",
    "6. **Async Operations**: Working with async/await patterns\n",
    "7. **Cleanup**: Properly managing agent resources\n",
    "\n",
    "### Next Steps\n",
    "\n",
    "- Explore file search capabilities\n",
    "- Implement custom function calling\n",
    "- Build multi-tool agents\n",
    "- Integrate with more complex LangChain workflows\n",
    "\n",
    "The Azure AI Agents integration provides a powerful way to combine the capabilities of Azure AI Projects with the flexibility of LangChain, enabling you to build sophisticated AI applications with ease."
   ]
  }
 ],
 "metadata": {
  "kernelspec": {
   "display_name": "3.9.23",
   "language": "python",
   "name": "python3"
  },
  "language_info": {
   "codemirror_mode": {
    "name": "ipython",
    "version": 3
   },
   "file_extension": ".py",
   "mimetype": "text/x-python",
   "name": "python",
   "nbconvert_exporter": "python",
   "pygments_lexer": "ipython3",
   "version": "3.9.23"
  }
 },
 "nbformat": 4,
 "nbformat_minor": 5
}
