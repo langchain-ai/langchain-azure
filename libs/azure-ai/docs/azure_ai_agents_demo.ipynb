{
 "cells": [
  {
   "cell_type": "markdown",
   "id": "ece22b77",
   "metadata": {},
   "source": [
    "# Azure AI Agents with LangChain Integration\n",
    "\n",
    "This notebook demonstrates how to use Azure AI Agents with LangChain through the `langchain-azure-ai` integration, powered by the Azure AI Projects SDK.\n",
    "\n",
    "## Prerequisites\n",
    "\n",
    "1. An Azure AI Foundry project\n",
    "2. A deployed model (e.g., gpt-4o-mini)\n",
    "3. Appropriate authentication credentials\n",
    "4. Environment variables set:\n",
    "   - `PROJECT_CONNECTION_ENDPOINT`\n",
    "\n",
    "Install langchain-azure-ai\n",
    "`pip install langchain-azure-ai` then you can run the following cells"
   ]
  },
  {
   "cell_type": "code",
   "execution_count": 5,
   "id": "579097b2",
   "metadata": {},
   "outputs": [],
   "source": [
    "# Try to import Azure and LangChain modules\n",
    "from azure.identity import DefaultAzureCredential\n",
    "# Import other required modules\n",
    "from langchain_core.output_parsers import StrOutputParser\n",
    "from langchain_core.prompts import PromptTemplate\n",
    "\n",
    "from langchain_azure_ai.azure_ai_agents import AzureAIAgentsService"
   ]
  },
  {
   "cell_type": "code",
   "execution_count": null,
   "id": "1fb600d0",
   "metadata": {},
   "outputs": [],
   "source": [
    "import os\n",
    "\n",
    "# Set up environment variables \n",
    "# note project connnection string is no longer supported\n",
    "os.environ[\"PROJECT_ENDPOINT\"] = \"\"\n",
    "os.environ[\"MODEL_DEPLOYMENT_NAME\"] = \"\""
   ]
  },
  {
   "cell_type": "markdown",
   "id": "56ecf24f",
   "metadata": {},
   "source": [
    "## Basic Usage\n",
    "\n",
    "Let's start with a basic example of creating an Azure AI Agent and using it with LangChain:"
   ]
  },
  {
   "cell_type": "code",
   "execution_count": 7,
   "id": "fcb433c1",
   "metadata": {},
   "outputs": [
    {
     "name": "stdout",
     "output_type": "stream",
     "text": [
      "Agent service created successfully!\n"
     ]
    }
   ],
   "source": [
    "# Create an Azure AI Agents service using Azure AI Projects SDK\n",
    "agent_service = AzureAIAgentsService(\n",
    "    credential=DefaultAzureCredential(),\n",
    "    endpoint=os.environ[\"PROJECT_ENDPOINT\"],  # Use the project endpoint\n",
    "    model=\"gpt-4.1\",  # Use a model that's available in your project\n",
    "    agent_name=\"langchain-demo-agent\",\n",
    "    instructions=\"You are a helpful AI assistant that provides clear and concise answers.\",\n",
    ")\n",
    "\n",
    "print(\"Agent service created successfully!\")"
   ]
  },
  {
   "cell_type": "code",
   "execution_count": 8,
   "id": "ab7e8b4e",
   "metadata": {},
   "outputs": [
    {
     "name": "stdout",
     "output_type": "stream",
     "text": [
      "Response: The capital of France is Paris.\n"
     ]
    }
   ],
   "source": [
    "# Test basic generation\n",
    "response = agent_service.invoke(\"What is the capital of France?\")\n",
    "print(f\"Response: {response}\")"
   ]
  },
  {
   "cell_type": "markdown",
   "id": "051b1738",
   "metadata": {},
   "source": [
    "## Multiple Prompts\n",
    "\n",
    "You can process multiple prompts at once:"
   ]
  },
  {
   "cell_type": "code",
   "execution_count": 9,
   "id": "a000da2b",
   "metadata": {},
   "outputs": [
    {
     "name": "stdout",
     "output_type": "stream",
     "text": [
      "Prompt 1: What is 2 + 2?\n",
      "Response: 2 + 2 = 4\n",
      "\n",
      "Prompt 2: Name one programming language.\n",
      "Response: Python is an example of a programming language.\n",
      "\n",
      "Prompt 3: What color is the sky?\n",
      "Response: The sky is typically blue during the daytime due to the scattering of sunlight by the atmosphere. At sunrise or sunset, it can appear red, orange, pink, or purple. At night, the sky usually looks dark or black, often dotted with stars. The color can also change depending on weather conditions (such as gray when it’s cloudy).\n",
      "\n"
     ]
    }
   ],
   "source": [
    "# Generate responses for multiple prompts\n",
    "prompts = [\"What is 2 + 2?\", \"Name one programming language.\", \"What color is the sky?\"]\n",
    "\n",
    "results = agent_service.generate(prompts)\n",
    "\n",
    "for i, generation_list in enumerate(results.generations):\n",
    "    print(f\"Prompt {i+1}: {prompts[i]}\")\n",
    "    print(f\"Response: {generation_list[0].text}\\n\")"
   ]
  },
  {
   "cell_type": "markdown",
   "id": "45228acc",
   "metadata": {},
   "source": [
    "## Integration with LangChain Chains\n",
    "\n",
    "The Azure AI Agents service works seamlessly with LangChain chains:"
   ]
  },
  {
   "cell_type": "code",
   "execution_count": 10,
   "id": "21d2b8a4",
   "metadata": {},
   "outputs": [
    {
     "name": "stdout",
     "output_type": "stream",
     "text": [
      "Machine Learning Explanation:\n",
      "- Machine learning is a field of artificial intelligence where computers learn patterns from data to make predictions or decisions without being explicitly programmed.  \n",
      "- It involves training algorithms on large datasets to recognize trends, classify information, or forecast outcomes.  \n",
      "- The main types include supervised learning, unsupervised learning, and reinforcement learning, each suited to different kinds of problems.\n"
     ]
    }
   ],
   "source": [
    "# Create a prompt template\n",
    "prompt = PromptTemplate(\n",
    "    input_variables=[\"topic\"], template=\"Explain {topic} in exactly 3 bullet points.\"\n",
    ")\n",
    "\n",
    "# Create a chain\n",
    "chain = prompt | agent_service | StrOutputParser()\n",
    "\n",
    "# Use the chain\n",
    "result = chain.invoke({\"topic\": \"machine learning\"})\n",
    "print(f\"Machine Learning Explanation:\\n{result}\")"
   ]
  },
  {
   "cell_type": "code",
   "execution_count": 11,
   "id": "3611cc0b",
   "metadata": {},
   "outputs": [
    {
     "name": "stdout",
     "output_type": "stream",
     "text": [
      "\n",
      "Artificial Intelligence:\n",
      "- Artificial intelligence (AI) is the simulation of human intelligence by machines, especially computers.  \n",
      "- It enables systems to learn from data, recognize patterns, and make decisions with minimal human intervention.  \n",
      "- Common applications include virtual assistants, image recognition, language translation, and self-driving cars.\n",
      "--------------------------------------------------\n",
      "\n",
      "Cloud Computing:\n",
      "- Cloud computing delivers computing services (like servers, storage, databases, networking, software) over the internet, often on a pay-as-you-go basis.  \n",
      "- It allows users to access and manage resources remotely without the need to own or maintain physical hardware.  \n",
      "- Cloud computing offers scalability, flexibility, and reliability for individuals and businesses of all sizes.\n",
      "--------------------------------------------------\n",
      "\n",
      "Data Science:\n",
      "- Data science combines statistics, programming, and domain knowledge to extract insights from structured and unstructured data.\n",
      "- It involves processes like data collection, cleaning, analysis, modeling, and visualization to support decision-making.\n",
      "- Techniques include machine learning, predictive analytics, and data mining to solve real-world problems and generate actionable results.\n",
      "--------------------------------------------------\n"
     ]
    }
   ],
   "source": [
    "# Try with different topics\n",
    "topics = [\"artificial intelligence\", \"cloud computing\", \"data science\"]\n",
    "\n",
    "for topic in topics:\n",
    "    result = chain.invoke({\"topic\": topic})\n",
    "    print(f\"\\n{topic.title()}:\")\n",
    "    print(result)\n",
    "    print(\"-\" * 50)"
   ]
  },
  {
   "cell_type": "markdown",
   "id": "88e180a4",
   "metadata": {},
   "source": [
    "## Advanced Configuration\n",
    "\n",
    "You can customize the agent with various parameters. The Azure AI Agents service supports the following configuration options:\n",
    "\n",
    "**Supported Parameters:**\n",
    "- `temperature`: Controls randomness in the output (0.0 to 1.0)\n",
    "- `top_p`: Controls diversity via nucleus sampling (0.0 to 1.0)  \n",
    "- `response_format`: Specifies the format that the model must output\n",
    "- `tools`: List of tools to provide to the agent\n",
    "- `tool_resources`: Tool resources for the agent\n",
    "- `metadata`: Custom metadata for the agent\n",
    "\n",
    "**Note:** Some parameters like `max_completion_tokens`, `max_prompt_tokens`, etc. are not supported by the current Azure AI Agents SDK."
   ]
  },
  {
   "cell_type": "code",
   "execution_count": 12,
   "id": "c24535f8",
   "metadata": {},
   "outputs": [
    {
     "name": "stdout",
     "output_type": "stream",
     "text": [
      "Creative Response:\n",
      "The sun, a molten coin, slips toward the seam  \n",
      "where sky and water hush in evening’s dream.  \n",
      "Molten gold spills over restless waves,  \n",
      "each crest a brushstroke, each trough a prayer.  \n",
      "Clouds, flushed with the afterglow of day,  \n",
      "wear apricot, rose, and lavender  \n",
      "braided above the infinite blue.  \n",
      "Salt air thickens with the hush of foam—  \n",
      "gulls call softer, shadows lengthen.  \n",
      "Light pours and pools, then slowly withdraws  \n",
      "into the velvet waiting of night,  \n",
      "leaving the ocean rimmed in burnished fire,  \n",
      "the horizon a secret, smoldering line.\n"
     ]
    }
   ],
   "source": [
    "# Create an agent with custom configuration\n",
    "custom_agent = AzureAIAgentsService(\n",
    "    endpoint=os.environ[\"PROJECT_ENDPOINT\"],\n",
    "    credential=DefaultAzureCredential(),\n",
    "    model=os.environ[\"MODEL_DEPLOYMENT_NAME\"],  # Use model_name instead of model\n",
    "    agent_name=\"custom-configured-agent\",\n",
    "    instructions=\"You are a creative writing assistant. Write in a poetic style.\",\n",
    "    temperature=0.8,  # Higher temperature for more creativity\n",
    "    agent_description=\"A creative writing assistant with poetic flair\",\n",
    ")\n",
    "\n",
    "# Test the custom agent\n",
    "creative_response = custom_agent.invoke(\"Describe a sunset over the ocean.\")\n",
    "print(f\"Creative Response:\\n{creative_response}\")"
   ]
  },
  {
   "cell_type": "markdown",
   "id": "62d2f997",
   "metadata": {},
   "source": [
    "## Tool Usage with Azure AI Agents\n",
    "\n",
    "Azure AI Agents support various tools including code interpreter, file search, and function calling. Here are examples of how to use these tools with the LangChain integration using the Azure AI Projects SDK.\n",
    "\n",
    "### Code Interpreter Tool\n",
    "\n",
    "The code interpreter tool allows agents to write and execute Python code, analyze data, create visualizations, and work with files."
   ]
  },
  {
   "cell_type": "code",
   "execution_count": null,
   "id": "1228f6a7",
   "metadata": {},
   "outputs": [],
   "source": [
    "!pip install pandas "
   ]
  },
  {
   "cell_type": "code",
   "execution_count": 14,
   "id": "27274596",
   "metadata": {},
   "outputs": [
    {
     "name": "stdout",
     "output_type": "stream",
     "text": [
      "Created sample data file → /workspaces/langchain-azure/libs/azure-ai/docs/sample_sales_data.csv\n",
      "\n",
      "Sample data:\n",
      "  month  sales region\n",
      "0   Jan  12000  North\n",
      "1   Feb  15000  South\n",
      "2   Mar  18000   East\n",
      "3   Apr  14000   West\n",
      "4   May  22000  North\n",
      "5   Jun  25000  South\n"
     ]
    }
   ],
   "source": [
    "import os\n",
    "import tempfile\n",
    "from pathlib import Path\n",
    "\n",
    "# First, let's create some sample data for the code interpreter to work with\n",
    "import pandas as pd\n",
    "\n",
    "# Create sample sales data\n",
    "data = {\n",
    "    \"month\": [\"Jan\", \"Feb\", \"Mar\", \"Apr\", \"May\", \"Jun\"],\n",
    "    \"sales\": [12000, 15000, 18000, 14000, 22000, 25000],\n",
    "    \"region\": [\"North\", \"South\", \"East\", \"West\", \"North\", \"South\"],\n",
    "}\n",
    "\n",
    "df = pd.DataFrame(data)\n",
    "\n",
    "# Create a CSV file in the current working directory\n",
    "csv_path = Path.cwd() / \"sample_sales_data.csv\"\n",
    "df.to_csv(\n",
    "    csv_path, index=False, encoding=\"utf-8-sig\"\n",
    ")  # The code interpreter requires utf-8-sig\n",
    "\n",
    "print(f\"Created sample data file → {csv_path}\")\n",
    "print(\"\\nSample data:\")\n",
    "print(df)"
   ]
  },
  {
   "cell_type": "code",
   "execution_count": 15,
   "id": "fa7cf55b",
   "metadata": {},
   "outputs": [
    {
     "name": "stdout",
     "output_type": "stream",
     "text": [
      "Uploading file for code interpreter...\n",
      "✓ Uploaded file, file ID: assistant-LeH2k6xbTZULFMv5YrxYqr\n",
      "[{'type': 'code_interpreter'}]\n",
      "{'code_interpreter': {'file_ids': ['assistant-LeH2k6xbTZULFMv5YrxYqr']}}\n",
      "Created agent, agent ID: asst_1K2LnACleXYvFq9Ositq055t\n",
      "Created thread, thread ID: thread_TMfMEQ8UXi9sKTfzxX8yTJuA\n",
      "✓ Created AzureAIAgentsService with code interpreter tool\n",
      "Created message, message ID: msg_bUMDC4YR4fLKCfPVHnx2UG7h\n",
      "Run finished with status: completed\n",
      "Messages: <iterator object azure.core.paging.ItemPaged at 0x74fe352fa5b0>\n",
      "File Paths:\n",
      "  Type: file_path\n",
      "  Text: sandbox:/mnt/data/sales_by_region_pie.png\n",
      "  File ID: assistant-5kueJPNXEsmcGQikEGhgTX\n",
      "  Start Index: 162\n",
      "  End Index: 203\n",
      "Last Message: The pie chart showing sales distribution by region has been generated. You can download the PNG image using the link below:\n",
      "\n",
      "[Download sales by region pie chart](sandbox:/mnt/data/sales_by_region_pie.png)\n"
     ]
    }
   ],
   "source": [
    "# Import required modules for tools using Azure AI Projects SDK\n",
    "from azure.ai.agents.models import (CodeInterpreterTool, FilePurpose,\n",
    "                                    FileSearchTool, MessageRole)\n",
    "\n",
    "# from azure.ai.projects import AIProjectClient\n",
    "\n",
    "try:\n",
    "    agents_client = AzureAIAgentsService(\n",
    "        credential=DefaultAzureCredential(),\n",
    "        endpoint=os.environ[\"PROJECT_ENDPOINT\"],  # Use the project endpoint\n",
    "        # model_name=\"gpt-4.1\",  # Use a model that's available in your project\n",
    "    )._create_client()\n",
    "\n",
    "    # # Upload the file for the code interpreter\n",
    "    print(\"Uploading file for code interpreter...\")\n",
    "    uploaded_file = agents_client.agents.files.upload_and_poll(\n",
    "        file_path=str(csv_path),\n",
    "        purpose=FilePurpose.AGENTS,  # Specify the purpose for the file\n",
    "    )\n",
    "\n",
    "    print(f\"✓ Uploaded file, file ID: {uploaded_file.id}\")\n",
    "\n",
    "    # Create code interpreter tool with the uploaded file\n",
    "    code_interpreter = CodeInterpreterTool(file_ids=[uploaded_file.id])\n",
    "\n",
    "    print(code_interpreter.definitions)\n",
    "\n",
    "    print(code_interpreter.resources)\n",
    "\n",
    "    agent = agents_client.agents.create_agent(\n",
    "        model=\"gpt-4.1\",\n",
    "        name=\"code-interpreter-agent\",\n",
    "        instructions=\"\"\"You are a data analyst agent. \n",
    "                Analyze the provided data and create visualizations \n",
    "                when helpful. Use Python code to explore and understand the data.\"\"\",\n",
    "        tools=code_interpreter.definitions,\n",
    "        tool_resources=code_interpreter.resources,\n",
    "    )\n",
    "    print(f\"Created agent, agent ID: {agent.id}\")\n",
    "\n",
    "    thread = agents_client.agents.threads.create()\n",
    "    print(f\"Created thread, thread ID: {thread.id}\")\n",
    "\n",
    "    print(f\"✓ Created AzureAIAgentsService with code interpreter tool\")\n",
    "\n",
    "    # Create a message\n",
    "    message = agents_client.agents.messages.create(\n",
    "        thread_id=thread.id,\n",
    "        role=\"user\",\n",
    "        content=\"create a pie chart with the data showing sales by region and show it to me as a png image.\",\n",
    "    )\n",
    "    print(f\"Created message, message ID: {message.id}\")\n",
    "\n",
    "    run = agents_client.agents.runs.create_and_process(\n",
    "        thread_id=thread.id, agent_id=agent.id\n",
    "    )\n",
    "    print(f\"Run finished with status: {run.status}\")\n",
    "\n",
    "    if run.status == \"failed\":\n",
    "        # Check if you got \"Rate limit is exceeded.\", then you want to get more quota\n",
    "        print(f\"Run failed: {run.last_error}\")\n",
    "\n",
    "    # [START get_messages_and_save_files]\n",
    "    messages = agents_client.agents.messages.list(thread_id=thread.id)\n",
    "    print(f\"Messages: {messages}\")\n",
    "\n",
    "    for msg in messages:\n",
    "        breakpoint()\n",
    "        # Save every image file in the message\n",
    "        for img in msg.image_contents:\n",
    "            file_id = img.image_file.file_id\n",
    "            file_name = f\"{file_id}_image_file.png\"\n",
    "            agents_client.files.save(\n",
    "                file_id=file_id,\n",
    "                file_name=file_name,\n",
    "                target_dir=\"/workspaces/langchain-azure/libs/azure-ai/docs/\",\n",
    "            )\n",
    "            print(f\"Saved image file to: {Path.cwd() / file_name}\")\n",
    "\n",
    "        # Print details of every file-path annotation\n",
    "        for ann in msg.file_path_annotations:\n",
    "            print(\"File Paths:\")\n",
    "            print(f\"  Type: {ann.type}\")\n",
    "            print(f\"  Text: {ann.text}\")\n",
    "            print(f\"  File ID: {ann.file_path.file_id}\")\n",
    "            print(f\"  Start Index: {ann.start_index}\")\n",
    "            print(f\"  End Index: {ann.end_index}\")\n",
    "    # [END get_messages_and_save_files]\n",
    "\n",
    "    last_msg = agents_client.agents.messages.get_last_message_text_by_role(\n",
    "        thread_id=thread.id, role=MessageRole.AGENT\n",
    "    )\n",
    "    if last_msg:\n",
    "        print(f\"Last Message: {last_msg.text.value}\")\n",
    "\n",
    "except Exception as e:\n",
    "    print(f\"An error occurred: {e}\")\n",
    "    print(\"Please check your Azure AI Projects configuration and try again.\")\n",
    "    import traceback\n",
    "\n",
    "    traceback.print_exc()"
   ]
  },
  {
   "cell_type": "code",
   "execution_count": 16,
   "id": "6ac51d94",
   "metadata": {},
   "outputs": [
    {
     "name": "stdout",
     "output_type": "stream",
     "text": [
      "Created thread: thread_M4x3PVVgMcMAOtrGmTh0NBco\n",
      "\n",
      "User: Hello! I'm learning about Python.\n",
      "Assistant: Hello! That’s great—Python is an excellent language to learn, especially for data analysis.\n",
      "\n",
      "I see you’ve uploaded a file. Would you like to explore this file together using Python? If you let me know your goals or questions, I can guide you through the analysis step by step.\n",
      "--------------------------------------------------------------------------------\n",
      "\n",
      "User: What are the key features of Python?\n",
      "Assistant: Python is popular and widely used, especially for data analysis, due to several key features:\n",
      "\n",
      "### 1. **Simple and Readable Syntax**\n",
      "   - Easy to write and understand, which makes it beginner-friendly.\n",
      "   - Code is clear and approachable.\n",
      "\n",
      "### 2. **Interpreted Language**\n",
      "   - Executes code line by line, making debugging and testing easier.\n",
      "\n",
      "### 3. **Dynamically Typed**\n",
      "   - No need to specify variable types; Python figures it out at runtime.\n",
      "\n",
      "### 4. **Extensive Standard Library**\n",
      "   - Includes modules for file handling, data processing, web development, and more.\n",
      "\n",
      "### 5. **Large Ecosystem of Packages**\n",
      "   - Strong community support, especially for data science (NumPy, Pandas, Matplotlib, Scikit-learn, etc.).\n",
      "\n",
      "### 6. **Cross-Platform Compatibility**\n",
      "   - Runs on Windows, macOS, and Linux without modification.\n",
      "\n",
      "### 7. **Object-Oriented and Functional**\n",
      "   - Supports both programming paradigms, allowing flexibility in solving problems.\n",
      "\n",
      "### 8. **Integration Capabilities**\n",
      "   - Easy to integrate with other languages (C, C++, Java) and technologies (databases, web services).\n",
      "\n",
      "### 9. **Open Source**\n",
      "   - Freely available and widely supported.\n",
      "\n",
      "---\n",
      "\n",
      "Would you like to see some basic examples or jump into exploring the file you provided?\n",
      "--------------------------------------------------------------------------------\n",
      "\n",
      "User: Can you give me an example of a Python function?\n",
      "Assistant: Absolutely! Here’s a **basic example** of a Python function that adds two numbers together:\n",
      "\n",
      "```python\n",
      "def add_numbers(a, b):\n",
      "    \"\"\"This function takes two numbers and returns their sum.\"\"\"\n",
      "    return a + b\n",
      "\n",
      "# Example usage\n",
      "result = add_numbers(5, 3)\n",
      "print(\"The sum is:\", result)\n",
      "```\n",
      "\n",
      "### Explanation:\n",
      "- `def` starts the function definition.\n",
      "- `add_numbers` is the function name.\n",
      "- `(a, b)` are the function parameters.\n",
      "- The function returns the sum of `a` and `b`.\n",
      "- The string in triple quotes is a **docstring** describing what the function does.\n",
      "- When called with `5` and `3`, it prints:  \n",
      "  ```\n",
      "  The sum is: 8\n",
      "  ```\n",
      "\n",
      "Would you like to see more advanced examples or how to use functions for data analysis?\n",
      "--------------------------------------------------------------------------------\n",
      "\n",
      "Thread deleted.\n"
     ]
    }
   ],
   "source": [
    "# Create a persistent thread for multi-turn conversation\n",
    "thread = agents_client.agents.threads.create()\n",
    "print(f\"Created thread: {thread.id}\")\n",
    "\n",
    "# Have a multi-turn conversation\n",
    "conversation = [\n",
    "    \"Hello! I'm learning about Python.\",\n",
    "    \"What are the key features of Python?\",\n",
    "    \"Can you give me an example of a Python function?\",\n",
    "]\n",
    "\n",
    "for user_message in conversation:\n",
    "    # Create message\n",
    "    message = agents_client.agents.messages.create(\n",
    "        thread_id=thread.id, role=\"user\", content=user_message\n",
    "    )\n",
    "\n",
    "    # Run the agent\n",
    "    run = agents_client.agents.runs.create_and_process(\n",
    "        thread_id=thread.id, agent_id=agent.id\n",
    "    )\n",
    "\n",
    "    # Get the latest response\n",
    "    messages = agents_client.agents.messages.list(thread_id=thread.id)\n",
    "\n",
    "    # Find the latest assistant message\n",
    "    # ItemPaged is iterable directly, no need for .data\n",
    "    for msg in messages:\n",
    "        if msg.role == \"assistant\" and msg.text_messages:\n",
    "            assistant_response = msg.text_messages[0].text.value\n",
    "            break\n",
    "\n",
    "    print(f\"\\nUser: {user_message}\")\n",
    "    print(f\"Assistant: {assistant_response}\")\n",
    "    print(\"-\" * 80)\n",
    "\n",
    "# Clean up the thread\n",
    "agents_client.agents.threads.delete(thread.id)\n",
    "print(\"\\nThread deleted.\")"
   ]
  },
  {
   "cell_type": "markdown",
   "id": "a647721e",
   "metadata": {},
   "source": [
    "## Async Operations\n",
    "\n",
    "The service also supports async operations:"
   ]
  },
  {
   "cell_type": "code",
   "execution_count": 17,
   "id": "a0101d0b",
   "metadata": {},
   "outputs": [
    {
     "name": "stdout",
     "output_type": "stream",
     "text": [
      "Async Response: **Asynchronous programming** is a programming paradigm that allows a unit of work to run separately from the main application thread, notifying the main thread when the work is complete. Here are some of the primary benefits:\n",
      "\n",
      "---\n",
      "\n",
      "### **1. Improved Responsiveness**\n",
      "- User interfaces remain responsive, even during lengthy operations (e.g., file I/O, network requests).\n",
      "- In GUI applications, the UI doesn't freeze when background tasks execute.\n",
      "\n",
      "---\n",
      "\n",
      "### **2. Better Resource Utilization**\n",
      "- The program can initiate multiple tasks without waiting for each to complete.\n",
      "- System resources (CPU, I/O, etc.) are used more efficiently, avoiding idle time.\n",
      "\n",
      "---\n",
      "\n",
      "### **3. Scalability**\n",
      "- Asynchronous server applications (e.g., web servers) can handle thousands of simultaneous connections efficiently.\n",
      "- Each request isn't blocked, so fewer threads are needed, which reduces memory and context-switching overhead.\n",
      "\n",
      "---\n",
      "\n",
      "### **4. Faster Execution for Some Workloads**\n",
      "- Multiple I/O-bound tasks can proceed in parallel, potentially improving total throughput and reducing overall latency.\n",
      "\n",
      "---\n",
      "\n",
      "### **5. Simplified Error Handling in Chains of Tasks**\n",
      "- Many asynchronous frameworks (e.g., async/await in C#, JavaScript) provide straightforward syntax for chaining operations and handling errors.\n",
      "\n",
      "---\n",
      "\n",
      "### **6. Avoidance of Thread Management Complexity**\n",
      "- Asynchronous code often does not require explicit thread creation and management, reducing the risk of concurrency bugs and resource exhaustion.\n",
      "\n",
      "---\n",
      "\n",
      "## **Common Use Cases**\n",
      "- Handling I/O (network, disk, database) operations in servers and clients.\n",
      "- GUI applications that must not block user interactivity.\n",
      "- Applications requiring high scalability with limited resources.\n",
      "\n",
      "---\n",
      "\n",
      "## **Caveats**\n",
      "While asynchronous programming offers significant advantages, it also comes with **increased complexity** in code structure and reasoning about execution flow. Effective error handling and debugging may also require additional care.\n",
      "\n",
      "---\n",
      "\n",
      "**In summary:**  \n",
      "Asynchronous programming leads to better performance, scalability, and responsiveness, especially for I/O-bound and high-concurrency applications.\n",
      "\n",
      "Async Multiple Responses:\n",
      "Hello: Hello! How can I help you today?\n",
      "How are you?: Thank you for asking! I'm here and ready to help you with any questions or tasks you have. How can I assist you today?\n",
      "Goodbye: Goodbye! If you need anything in the future, just let me know. Have a great day! 😊\n"
     ]
    }
   ],
   "source": [
    "import asyncio\n",
    "\n",
    "from azure.identity import DefaultAzureCredential\n",
    "\n",
    "\n",
    "async def async_example():\n",
    "    # Create async agent\n",
    "    async_agent = AzureAIAgentsService(\n",
    "        endpoint=os.environ[\"PROJECT_ENDPOINT\"],\n",
    "        credential=DefaultAzureCredential(),\n",
    "        model=os.environ[\"MODEL_DEPLOYMENT_NAME\"],  # Use model_name instead of model\n",
    "        agent_name=\"async-demo-agent\",\n",
    "        instructions=\"You are an async AI assistant.\",\n",
    "    )\n",
    "\n",
    "    try:\n",
    "        # Async generation\n",
    "        response = await async_agent.ainvoke(\n",
    "            \"What are the benefits of asynchronous programming?\"\n",
    "        )\n",
    "        print(f\"Async Response: {response}\")\n",
    "\n",
    "        # Async multiple prompts\n",
    "        prompts = [\"Hello\", \"How are you?\", \"Goodbye\"]\n",
    "        results = await async_agent.agenerate(prompts)\n",
    "\n",
    "        print(\"\\nAsync Multiple Responses:\")\n",
    "        for i, generation_list in enumerate(results.generations):\n",
    "            print(f\"{prompts[i]}: {generation_list[0].text}\")\n",
    "\n",
    "    finally:\n",
    "        # Clean up\n",
    "        await async_agent.adelete_agent()\n",
    "        await async_agent.aclose()  # closes aiohttp session\n",
    "\n",
    "\n",
    "# Run the async example\n",
    "await async_example()"
   ]
  },
  {
   "cell_type": "markdown",
   "id": "25486fca",
   "metadata": {},
   "source": [
    "## Cleanup\n",
    "\n",
    "Always remember to clean up your agents when you're done:"
   ]
  },
  {
   "cell_type": "code",
   "execution_count": 18,
   "id": "f06b7700",
   "metadata": {},
   "outputs": [
    {
     "name": "stdout",
     "output_type": "stream",
     "text": [
      "Deleted main agent\n",
      "Deleted custom agent\n",
      "\n",
      "Cleanup completed!\n"
     ]
    }
   ],
   "source": [
    "# Clean up all the agents we created\n",
    "try:\n",
    "    agent_service.delete_agent()\n",
    "    print(\"Deleted main agent\")\n",
    "except:\n",
    "    print(\"Main agent already deleted or not found\")\n",
    "\n",
    "try:\n",
    "    custom_agent.delete_agent()\n",
    "    print(\"Deleted custom agent\")\n",
    "except:\n",
    "    print(\"Custom agent already deleted or not found\")\n",
    "\n",
    "print(\"\\nCleanup completed!\")"
   ]
  },
  {
   "cell_type": "markdown",
   "id": "966e5d5d",
   "metadata": {},
   "source": [
    "### Other things to try\n",
    "\n",
    "- Explore file search capabilities\n",
    "- Implement custom function calling\n",
    "- Build multi-tool agents\n",
    "- Integrate with more complex LangChain workflows\n",
    "\n",
    "The Azure AI Agents integration provides a powerful way to combine the capabilities of Azure AI Projects with the flexibility of LangChain, enabling you to build sophisticated AI applications with ease."
   ]
  }
 ],
 "metadata": {
  "kernelspec": {
   "display_name": "langchain-azure-ai-py3.9 (3.9.23)",
   "language": "python",
   "name": "python3"
  },
  "language_info": {
   "codemirror_mode": {
    "name": "ipython",
    "version": 3
   },
   "file_extension": ".py",
   "mimetype": "text/x-python",
   "name": "python",
   "nbconvert_exporter": "python",
   "pygments_lexer": "ipython3",
   "version": "3.9.23"
  }
 },
 "nbformat": 4,
 "nbformat_minor": 5
}
