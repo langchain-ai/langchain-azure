{
 "cells": [
  {
   "cell_type": "markdown",
   "id": "ece22b77",
   "metadata": {},
   "source": [
    "# Azure AI Agents with LangChain Integration\n",
    "\n",
    "This notebook demonstrates how to use Azure AI Agent Service with LangChain through the `langchain-azure-ai` integration, powered by the Azure AI Projects SDK.\n",
    "\n",
    "## Prerequisites\n",
    "\n",
    "1. An Azure AI Foundry project\n",
    "2. A deployed model (e.g., gpt-4o-mini)\n",
    "3. Appropriate authentication credentials\n",
    "4. Environment variables set:\n",
    "\n",
    "   - `PROJECT_ENDPOINT`\n",
    "\n",
    "5. Install `langchain-azure-ai`\n",
    "   \n",
    "   `pip install langchain-azure-ai[tools]` "
   ]
  },
  {
   "cell_type": "code",
   "execution_count": null,
   "id": "1fb600d0",
   "metadata": {},
   "outputs": [],
   "source": [
    "import os\n",
    "\n",
    "# Set up environment variables \n",
    "# note project connnection string is no longer supported\n",
    "os.environ[\"AZURE_AI_PROJECT_ENDPOINT\"] = \"https://<resource>.services.ai.azure.com/api/projects/<project>\"\n",
    "os.environ[\"MODEL_DEPLOYMENT_NAME\"] = \"<deployment-name>\""
   ]
  },
  {
   "cell_type": "markdown",
   "id": "0a278317",
   "metadata": {},
   "source": [
    "## Setup\n",
    "\n",
    "To start working with Azure AI Foundry Agents Service, you need to create an `AgentServiceFactory` which allows you to create agents in the service and materialize them in LangChain:"
   ]
  },
  {
   "cell_type": "code",
   "execution_count": 3,
   "id": "4738329d",
   "metadata": {},
   "outputs": [],
   "source": [
    "from langchain_azure_ai.agents import AgentServiceFactory\n",
    "from azure.identity import DefaultAzureCredential\n",
    "\n",
    "factory = AgentServiceFactory(\n",
    "    project_endpoint=os.environ[\"AZURE_AI_PROJECT_ENDPOINT\"],\n",
    "    credential=DefaultAzureCredential()\n",
    ")"
   ]
  },
  {
   "cell_type": "markdown",
   "id": "7eba6b84",
   "metadata": {},
   "source": [
    "## Basic Usage\n",
    "\n",
    "The simplest way to interface with the Azure AI Foundry Agents service is to use the method `create_declarative_chat_agent` which creates a basic ReAct-like agent that has access to tools. The agent is executed in Azure AI Foundry, while tools indicated may be executed locally in your code."
   ]
  },
  {
   "cell_type": "code",
   "execution_count": null,
   "id": "fcb433c1",
   "metadata": {},
   "outputs": [],
   "source": [
    "agent = factory.create_declarative_chat_agent(\n",
    "    name=\"my-echo-agent\",\n",
    "    model=\"gpt-4.1\",\n",
    "    instructions=\"You are a helpful AI assistant that always replies back saying the opposite of what the user says.\",\n",
    "    trace=True\n",
    ")\n",
    "\n",
    "print(f\"Agent with ID {factory.get_declarative_agents_id_from_graph(agent)} created.\")"
   ]
  },
  {
   "cell_type": "markdown",
   "id": "40b8fb80",
   "metadata": {},
   "source": [
    "The agent has a single node as it doesn't contain any tool:"
   ]
  },
  {
   "cell_type": "code",
   "execution_count": null,
   "id": "92d852a2",
   "metadata": {},
   "outputs": [],
   "source": [
    "from IPython import display\n",
    "\n",
    "display.Image(agent.get_graph().draw_mermaid_png())"
   ]
  },
  {
   "cell_type": "code",
   "execution_count": null,
   "id": "6b056cda",
   "metadata": {},
   "outputs": [],
   "source": [
    "from langchain_core.messages import HumanMessage\n",
    "\n",
    "messages = [HumanMessage(content=\"I'm a genius and I love programming!\")]\n",
    "state = agent.invoke({\"messages\": messages})\n",
    "\n",
    "for m in state['messages']:\n",
    "    m.pretty_print()"
   ]
  },
  {
   "cell_type": "markdown",
   "id": "7e5bb24f",
   "metadata": {},
   "source": [
    "Agents created in Azure AI Foundry are objects that can be managed in the portal. If you want, you can delete the created agent in Azure AI Foundry:"
   ]
  },
  {
   "cell_type": "code",
   "execution_count": null,
   "id": "3537bf54",
   "metadata": {},
   "outputs": [],
   "source": [
    "factory.delete_agent(agent)"
   ]
  },
  {
   "cell_type": "markdown",
   "id": "ec2dfd80",
   "metadata": {},
   "source": [
    "Once the agent is deleted from Azure AI Foundry, the agent object in LangChain can't be used any longer."
   ]
  },
  {
   "cell_type": "markdown",
   "id": "88e180a4",
   "metadata": {},
   "source": [
    "## Advanced Configuration\n",
    "\n",
    "You can customize the agent with various parameters. The Azure AI Agents service supports the following configuration options:\n",
    "\n",
    "**Supported Parameters:**\n",
    "- `temperature`: Controls randomness in the output (0.0 to 1.0)\n",
    "- `top_p`: Controls diversity via nucleus sampling (0.0 to 1.0)  \n",
    "- `response_format`: Specifies the format that the model must output\n",
    "- `tools`: List of tools to provide to the agent\n",
    "- `tool_resources`: Tool resources for the agent\n",
    "- `metadata`: Custom metadata for the agent\n",
    "\n",
    "**Note:** Some parameters like `max_completion_tokens`, `max_prompt_tokens`, etc. are not supported by the current Azure AI Agents SDK."
   ]
  },
  {
   "cell_type": "code",
   "execution_count": null,
   "id": "c24535f8",
   "metadata": {},
   "outputs": [],
   "source": [
    "# Create an agent with custom configuration\n",
    "custom_agent = factory.create_declarative_chat_agent(\n",
    "    name=\"custom-configured-agent\",\n",
    "    description=\"A creative writing assistant with poetic flair\",\n",
    "    model=os.environ[\"MODEL_DEPLOYMENT_NAME\"],\n",
    "    instructions=\"You are a creative writing assistant. Write in a poetic style.\",\n",
    "    temperature=0.8,  # Higher temperature for more creativity\n",
    ")\n",
    "\n",
    "# Test the custom agent\n",
    "creative_response = custom_agent.invoke({ \"messages\": [HumanMessage(\"Describe a sunset over the ocean.\")] })\n",
    "print(f\"Creative Response:\\n{creative_response}\")"
   ]
  },
  {
   "cell_type": "markdown",
   "id": "d59f2dd3",
   "metadata": {},
   "source": [
    "## Tools\n",
    "\n",
    "Agents can handle multiple type of tools.\n",
    "\n",
    "### Callable tools\n",
    "\n",
    "You can define callable tools that can be used with your agent. Tools are executed locally in your code."
   ]
  },
  {
   "cell_type": "markdown",
   "id": "28d4c14d",
   "metadata": {},
   "source": [
    "Let's start by defining some tools"
   ]
  },
  {
   "cell_type": "code",
   "execution_count": null,
   "id": "9e63bfce",
   "metadata": {},
   "outputs": [],
   "source": [
    "def multiply(a: int, b: int) -> int:\n",
    "    \"\"\"Multiply a and b.\n",
    "\n",
    "    Args:\n",
    "        a: first int\n",
    "        b: second int\n",
    "    \"\"\"\n",
    "    return a * b\n",
    "\n",
    "# This will be a tool\n",
    "def add(a: int, b: int) -> int:\n",
    "    \"\"\"Adds a and b.\n",
    "\n",
    "    Args:\n",
    "        a: first int\n",
    "        b: second int\n",
    "    \"\"\"\n",
    "    return a + b\n",
    "\n",
    "def divide(a: int, b: int) -> float:\n",
    "    \"\"\"Adds a and b.\n",
    "\n",
    "    Args:\n",
    "        a: first int\n",
    "        b: second int\n",
    "    \"\"\"\n",
    "    return a / b\n",
    "\n",
    "tools = [add, multiply, divide]"
   ]
  },
  {
   "cell_type": "markdown",
   "id": "f568907b",
   "metadata": {},
   "source": [
    "Now, let's create an agent that can use those tools:"
   ]
  },
  {
   "cell_type": "code",
   "execution_count": null,
   "id": "31b10411",
   "metadata": {},
   "outputs": [],
   "source": [
    "math_agent = factory.create_declarative_chat_agent(\n",
    "    name=\"math-agent\",\n",
    "    model=\"gpt-4.1\",\n",
    "    instructions=\"You are a helpful assistant tasked with performing arithmetic on a set of inputs.\",\n",
    "    tools=tools,\n",
    ")"
   ]
  },
  {
   "cell_type": "markdown",
   "id": "22246043",
   "metadata": {},
   "source": [
    "A node \"tools\" is added to the graph:"
   ]
  },
  {
   "cell_type": "code",
   "execution_count": null,
   "id": "996c95e1",
   "metadata": {},
   "outputs": [],
   "source": [
    "from IPython import display\n",
    "\n",
    "display.Image(math_agent.get_graph().draw_mermaid_png())"
   ]
  },
  {
   "cell_type": "code",
   "execution_count": null,
   "id": "9f4bad58",
   "metadata": {},
   "outputs": [],
   "source": [
    "messages = [HumanMessage(content=\"Add 3 and 4. Multiply the output by 2. Divide the output by 5\")]\n",
    "messages = math_agent.invoke({\"messages\": messages})\n",
    "\n",
    "for m in messages['messages']:\n",
    "    m.pretty_print()"
   ]
  },
  {
   "cell_type": "markdown",
   "id": "e7ae6eab",
   "metadata": {},
   "source": [
    "### Azure AI Services \n",
    "\n",
    "Azure AI Foundry have access to intelligent tools that can be used with your agents. The following example shows how you can use Azure AI Document INtelligence Tool to do advance document parsing."
   ]
  },
  {
   "cell_type": "code",
   "execution_count": null,
   "id": "e2414809",
   "metadata": {},
   "outputs": [],
   "source": [
    "from langchain_azure_ai.tools import AzureAIDocumentIntelligenceTool\n",
    "\n",
    "document_parser_agent = factory.create_declarative_chat_agent(\n",
    "    name=\"document-agent\",\n",
    "    model=\"gpt-4.1\",\n",
    "    instructions=\"You are a helpful assistant tasked with analyzing documents.\",\n",
    "    tools=[AzureAIDocumentIntelligenceTool(credential=DefaultAzureCredential())],\n",
    ")"
   ]
  },
  {
   "cell_type": "markdown",
   "id": "7aada31c",
   "metadata": {},
   "source": [
    "Let's use the agent to parse the invoice:"
   ]
  },
  {
   "cell_type": "code",
   "execution_count": null,
   "id": "fd98785c",
   "metadata": {},
   "outputs": [],
   "source": [
    "messages = [HumanMessage(content=\"What's the total amount in the invoice at https://raw.githubusercontent.com/Azure/azure-sdk-for-python/main/sdk/formrecognizer/azure-ai-formrecognizer/tests/sample_forms/forms/Form_1.jpg\")]\n",
    "messages = document_parser_agent.invoke({\"messages\": messages})\n",
    "\n",
    "for m in messages['messages']:\n",
    "    m.pretty_print()"
   ]
  },
  {
   "cell_type": "markdown",
   "id": "d1809bf5",
   "metadata": {},
   "source": [
    "### Azure AI Agent Service Tools\n",
    "\n",
    "Azure AI Foundry Agent Service has specific tools available that can be executed directly within the service. For example, code interpreter. You can indicate those tools with your agent, although they may require configuration before using them:"
   ]
  },
  {
   "cell_type": "code",
   "execution_count": 17,
   "id": "27274596",
   "metadata": {},
   "outputs": [
    {
     "name": "stdout",
     "output_type": "stream",
     "text": [
      "Created sample data file → /root/repos/santiagxf/langchain-azure/libs/azure-ai/docs/sample_sales_data.csv\n",
      "\n",
      "Sample data:\n",
      "  month  sales region\n",
      "0   Jan  12000  North\n",
      "1   Feb  15000  South\n",
      "2   Mar  18000   East\n",
      "3   Apr  14000   West\n",
      "4   May  22000  North\n",
      "5   Jun  25000  South\n"
     ]
    }
   ],
   "source": [
    "import os\n",
    "import tempfile\n",
    "from pathlib import Path\n",
    "\n",
    "# First, let's create some sample data for the code interpreter to work with\n",
    "import pandas as pd\n",
    "\n",
    "# Create sample sales data\n",
    "data = {\n",
    "    \"month\": [\"Jan\", \"Feb\", \"Mar\", \"Apr\", \"May\", \"Jun\"],\n",
    "    \"sales\": [12000, 15000, 18000, 14000, 22000, 25000],\n",
    "    \"region\": [\"North\", \"South\", \"East\", \"West\", \"North\", \"South\"],\n",
    "}\n",
    "\n",
    "df = pd.DataFrame(data)\n",
    "\n",
    "# Create a CSV file in the current working directory\n",
    "csv_path = Path.cwd() / \"sample_sales_data.csv\"\n",
    "df.to_csv(\n",
    "    csv_path, index=False, encoding=\"utf-8-sig\"\n",
    ")  # The code interpreter requires utf-8-sig\n",
    "\n",
    "print(f\"Created sample data file → {csv_path}\")\n",
    "print(\"\\nSample data:\")\n",
    "print(df)"
   ]
  },
  {
   "cell_type": "markdown",
   "id": "c6c1c09c",
   "metadata": {},
   "source": [
    "Use the projects SDK to configure your tools:"
   ]
  },
  {
   "cell_type": "code",
   "execution_count": 18,
   "id": "2b23600e",
   "metadata": {},
   "outputs": [],
   "source": [
    "from azure.ai.projects import AIProjectClient\n",
    "from azure.identity import DefaultAzureCredential\n",
    "from azure.ai.agents.models import (CodeInterpreterTool, FilePurpose,\n",
    "                                    FileSearchTool, MessageRole)\n",
    "\n",
    "client = AIProjectClient(\n",
    "    endpoint=os.environ[\"AZURE_AI_PROJECT_ENDPOINT\"],\n",
    "    credential=DefaultAzureCredential()\n",
    ")"
   ]
  },
  {
   "cell_type": "markdown",
   "id": "fe87d4af",
   "metadata": {},
   "source": [
    "Upload the file for the code interpreter"
   ]
  },
  {
   "cell_type": "code",
   "execution_count": 24,
   "id": "bb5b0885",
   "metadata": {},
   "outputs": [
    {
     "name": "stdout",
     "output_type": "stream",
     "text": [
      "✓ Uploaded file, file ID: assistant-BGjtwoWCe7zbW2i9ssYT4a\n"
     ]
    }
   ],
   "source": [
    "uploaded_file = client.agents.files.upload_and_poll(\n",
    "    file_path=str(csv_path),\n",
    "    purpose=FilePurpose.AGENTS,  # Specify the purpose for the file\n",
    ")\n",
    "print(f\"✓ Uploaded file, file ID: {uploaded_file.id}\")"
   ]
  },
  {
   "cell_type": "markdown",
   "id": "bf0c238f",
   "metadata": {},
   "source": [
    "Create the code interpreter tool:"
   ]
  },
  {
   "cell_type": "code",
   "execution_count": 25,
   "id": "4c4b070a",
   "metadata": {},
   "outputs": [],
   "source": [
    "code_interpreter = CodeInterpreterTool(file_ids=[uploaded_file.id])"
   ]
  },
  {
   "cell_type": "markdown",
   "metadata": {},
   "source": [
    "Create the agent with access to this tool. Notice how `AgentServiceBaseTool` is used to tell LangChain that this particular tool needs to be executed in the cloud, instead of locally where the code is running:"
   ]
  },
  {
   "cell_type": "code",
   "execution_count": 26,
   "id": "bfd21e77",
   "metadata": {},
   "outputs": [],
   "source": [
    "from langchain_azure_ai.agents.prebuilt.tools import AgentServiceBaseTool\n",
    "from langchain_core.messages import AIMessage, HumanMessage\n",
    "\n",
    "code_interpreter_agent = factory.create_declarative_chat_agent(\n",
    "    name=\"code-interpreter-agent\",\n",
    "    model=\"gpt-4.1\",\n",
    "    instructions=\"\"\"You are a data analyst agent. \n",
    "                Analyze the provided data in a CSV format and create visualizations \n",
    "                when helpful. Use Python code to explore and understand the data.\"\"\",\n",
    "    tools=[AgentServiceBaseTool(tool=code_interpreter)],\n",
    ")"
   ]
  },
  {
   "cell_type": "code",
   "execution_count": 27,
   "id": "f296c3bc",
   "metadata": {},
   "outputs": [
    {
     "name": "stdout",
     "output_type": "stream",
     "text": [
      "Found file path annotations: [{'type': 'file_path', 'text': 'sandbox:/mnt/data/sales_by_region.png', 'start_index': 111, 'end_index': 148, 'file_path': {'file_id': 'assistant-5sEKPZiGBtfLBnv7v57vex'}}]\n",
      "Found file path annotation: file_path with text sandbox:/mnt/data/sales_by_region.png\n"
     ]
    }
   ],
   "source": [
    "messages = [HumanMessage(content=\"create a pie chart with the data showing sales by region and show it to me as a png image.\")]\n",
    "messages = code_interpreter_agent.invoke({\"messages\": messages})"
   ]
  },
  {
   "cell_type": "code",
   "execution_count": 28,
   "id": "326e1534",
   "metadata": {},
   "outputs": [
    {
     "name": "stdout",
     "output_type": "stream",
     "text": [
      "================================\u001b[1m Human Message \u001b[0m=================================\n",
      "\n",
      "create a pie chart with the data showing sales by region and show it to me as a png image.\n",
      "==================================\u001b[1m Ai Message \u001b[0m==================================\n",
      "\n",
      "I'll start by loading the data and inspecting it to identify the columns related to sales and region. Then, I'll create a pie chart displaying sales by region and save it as a PNG image.\n",
      "\n",
      "Let's begin by examining the contents of your CSV file.\n",
      "==================================\u001b[1m Ai Message \u001b[0m==================================\n",
      "\n",
      "The file contains the columns: `month`, `sales`, and `region`. To create a pie chart showing sales by region, I'll aggregate sales for each region and generate the chart.\n",
      "\n",
      "I'll save the result as a PNG image and display it for you.\n",
      "==================================\u001b[1m Ai Message \u001b[0m==================================\n",
      "\n",
      "The pie chart showing sales by region has been created. Here is the chart as a PNG image: \n",
      "\n",
      "![Sales by Region](sandbox:/mnt/data/sales_by_region.png)\n"
     ]
    }
   ],
   "source": [
    "for m in messages['messages']:\n",
    "    m.pretty_print()\n",
    "    if isinstance(m, AIMessage) and not isinstance(m.content, str):\n",
    "        for block in m.content:\n",
    "            if isinstance(block, dict) and block.get(\"type\") == \"image\":\n",
    "                image_data = block.get(\"base64\")\n",
    "                if image_data:\n",
    "                    from IPython.display import Image, display\n",
    "                    import base64\n",
    "                    display(Image(data=base64.b64decode(image_data)))"
   ]
  },
  {
   "cell_type": "markdown",
   "id": "a647721e",
   "metadata": {},
   "source": [
    "## Async Operations\n",
    "\n",
    "The service also supports async operations:"
   ]
  },
  {
   "cell_type": "code",
   "execution_count": null,
   "id": "a0101d0b",
   "metadata": {},
   "outputs": [],
   "source": [
    "import asyncio\n",
    "\n",
    "from azure.identity import DefaultAzureCredential\n",
    "\n",
    "\n",
    "async def async_example():\n",
    "    # Create async agent\n",
    "    async_agent = factory.create_declarative_chat_agent(\n",
    "        model=os.environ[\"MODEL_DEPLOYMENT_NAME\"],  # Use model_name instead of model\n",
    "        name=\"async-demo-agent\",\n",
    "        instructions=\"You are an async AI assistant.\",\n",
    "    )\n",
    "\n",
    "    try:\n",
    "        # Async generation\n",
    "        response = await async_agent.ainvoke(\n",
    "            { \"messages\": [HumanMessage(\"What are the benefits of asynchronous programming?\")] }\n",
    "        )\n",
    "        print(f\"Async Response: {response}\")\n",
    "\n",
    "    finally:\n",
    "        # Clean up\n",
    "        await factory.delete_agent(async_agent)\n",
    "\n",
    "# Run the async example\n",
    "await async_example()"
   ]
  },
  {
   "cell_type": "markdown",
   "id": "966e5d5d",
   "metadata": {},
   "source": [
    "### Other things to try\n",
    "\n",
    "- Explore file search capabilities\n",
    "- Implement custom function calling\n",
    "- Build multi-tool agents\n",
    "- Integrate with more complex LangChain workflows\n",
    "\n",
    "The Azure AI Agents integration provides a powerful way to combine the capabilities of Azure AI Projects with the flexibility of LangChain, enabling you to build sophisticated AI applications with ease."
   ]
  }
 ],
 "metadata": {
  "kernelspec": {
   "display_name": "langchain-azure-ai-py3.10",
   "language": "python",
   "name": "python3"
  },
  "language_info": {
   "codemirror_mode": {
    "name": "ipython",
    "version": 3
   },
   "file_extension": ".py",
   "mimetype": "text/x-python",
   "name": "python",
   "nbconvert_exporter": "python",
   "pygments_lexer": "ipython3",
   "version": "3.10.12"
  }
 },
 "nbformat": 4,
 "nbformat_minor": 5
}
